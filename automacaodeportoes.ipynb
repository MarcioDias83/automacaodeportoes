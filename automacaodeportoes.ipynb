import os
# Definir a variável de ambiente para forçar o uso do X11 (solução para o erro do Wayland)
os.environ["QT_QPA_PLATFORM"] = "xcb"

import sys
import cv2
import numpy as np
import datetime
import threading
import logging
from PyQt5 import QtCore, QtGui, QtWidgets
from sqlalchemy import create_engine, Column, Integer, String, Date, Time, Boolean
from sqlalchemy.orm import declarative_base, sessionmaker
import pytesseract
import serial
import zipfile
import requests
import qdarkstyle

# Configuração do logging
logging.basicConfig(
    filename='sistema_portao.log',
    level=logging.INFO,
    format='%(asctime)s:%(levelname)s:%(message)s'
)

# Configuração do banco de dados
DATABASE_NAME = 'sistema_portao.db'
CONFIG_FILE = 'config.ini'  # Arquivo de configurações (se houver)
engine = create_engine(f'sqlite:///{DATABASE_NAME}', echo=False)
Base = declarative_base()
Session = sessionmaker(bind=engine)
session = Session()

# Configuração do Tesseract OCR
# Atualize o caminho para o Tesseract no Linux (ou deixe vazio se estiver no PATH)
pytesseract.pytesseract.tesseract_cmd = r'/usr/bin/tesseract'  # Verifique se este caminho está correto no seu sistema

# Modelos de dados
class Veiculo(Base):
    __tablename__ = 'veiculos'
    id = Column(Integer, primary_key=True)
    placa = Column(String, unique=True, nullable=False)
    proprietario = Column(String, nullable=False)
    modelo = Column(String)
    cor = Column(String)
    validade = Column(Date, nullable=False)

class Acesso(Base):
    __tablename__ = 'acessos'
    id = Column(Integer, primary_key=True)
    placa = Column(String, nullable=False)
    data = Column(Date, default=datetime.date.today)
    hora = Column(Time, default=datetime.datetime.now().time)
    autorizado = Column(Boolean, nullable=False)

Base.metadata.create_all(engine)

# Funções utilitárias
def fazer_backup():
    try:
        backup_dir = 'backup'
        if not os.path.exists(backup_dir):
            os.makedirs(backup_dir)
        timestamp = datetime.datetime.now().strftime("%Y%m%d%H%M%S")
        backup_file = os.path.join(backup_dir, f'backup_{timestamp}.zip')
        with zipfile.ZipFile(backup_file, 'w') as backup_zip:
            backup_zip.write(DATABASE_NAME)
            if os.path.exists(CONFIG_FILE):
                backup_zip.write(CONFIG_FILE)
        logging.info(f"Backup criado: {backup_file}")
        return backup_file
    except Exception as e:
        logging.error(f"Erro ao criar backup: {e}")
        return None

def atualizar_programa():
    backup_file = fazer_backup()
    if backup_file:
        try:
            # URL para download da nova versão do programa
            url = "https://seu-servidor.com/atualizacao/sistema_portao.py"  # Altere este URL para o correto
            response = requests.get(url)
            if response.status_code == 200:
                with open('sistema_portao.py', 'wb') as f:
                    f.write(response.content)
                QtWidgets.QMessageBox.information(None, "Atualização", "Programa atualizado com sucesso! Reinicie o aplicativo.")
                logging.info("Programa atualizado com sucesso.")
            else:
                QtWidgets.QMessageBox.warning(None, "Erro", "Falha ao baixar a atualização.")
                logging.error("Falha ao baixar a atualização.")
        except Exception as e:
            QtWidgets.QMessageBox.warning(None, "Erro", f"Erro ao atualizar o programa: {e}")
            logging.error(f"Erro ao atualizar o programa: {e}")
    else:
        QtWidgets.QMessageBox.warning(None, "Erro", "Não foi possível fazer o backup antes da atualização.")
        logging.error("Falha ao criar backup antes da atualização.")

def abrir_portao():
    try:
        # Atualize a porta serial conforme necessário
        arduino = serial.Serial('/dev/ttyUSB0', 9600, timeout=1)  # Exemplo para Linux
        arduino.write(b'A')
        arduino.close()
        logging.info("Portão aberto com sucesso.")
    except Exception as e:
        logging.error(f"Erro ao abrir o portão: {e}")

# Classe principal do aplicativo
class SistemaPortao(QtWidgets.QMainWindow):
    def __init__(self):
        super(SistemaPortao, self).__init__()
        self.setWindowTitle("Sistema de Controle de Acesso")
        self.setGeometry(100, 100, 900, 700)
        # self.setWindowIcon(QtGui.QIcon('icon.png'))  # Adicione seu próprio ícone se desejar
        self.aplicar_estilos()
        self.inicializar_variaveis()
        self.configurar_ui()
        self.conectar_sinais_slots()

    def aplicar_estilos(self):
        # Aplicar tema escuro
        self.setStyleSheet(qdarkstyle.load_stylesheet_pyqt5())

    def inicializar_variaveis(self):
        self.cap = None
        self.is_running = False
        self.video_thread = None

    def configurar_ui(self):
        # Criar widget central e layout principal
        self.central_widget = QtWidgets.QWidget()
        self.setCentralWidget(self.central_widget)
        self.main_layout = QtWidgets.QVBoxLayout(self.central_widget)

        # Criar abas
        self.tabs = QtWidgets.QTabWidget()
        self.main_layout.addWidget(self.tabs)

        # Aba Monitoramento
        self.tab_monitoramento = QtWidgets.QWidget()
        self.tabs.addTab(self.tab_monitoramento, "Monitoramento")
        self.configurar_tab_monitoramento()

        # Aba Veículos
        self.tab_veiculos = QtWidgets.QWidget()
        self.tabs.addTab(self.tab_veiculos, "Veículos")
        self.configurar_tab_veiculos()

        # Aba Acessos
        self.tab_acessos = QtWidgets.QWidget()
        self.tabs.addTab(self.tab_acessos, "Acessos")
        self.configurar_tab_acessos()

        # Aba Configurações
        self.tab_configuracoes = QtWidgets.QWidget()
        self.tabs.addTab(self.tab_configuracoes, "Configurações")
        self.configurar_tab_configuracoes()

        # Barra de status
        self.statusbar = QtWidgets.QStatusBar()
        self.setStatusBar(self.statusbar)
        self.statusbar.showMessage("Sistema inicializado.")

    def conectar_sinais_slots(self):
        # Sinais para a aba Monitoramento
        self.btn_iniciar.clicked.connect(self.iniciar_monitoramento)
        self.btn_parar.clicked.connect(self.parar_monitoramento)

        # Sinais para a aba Veículos
        self.btn_adicionar.clicked.connect(self.adicionar_veiculo)
        self.btn_editar.clicked.connect(self.editar_veiculo)
        self.btn_remover.clicked.connect(self.remover_veiculo)

        # Sinais para a aba Acessos
        self.btn_atualizar_acessos.clicked.connect(self.carregar_acessos)

        # Sinais para a aba Configurações
        self.btn_backup.clicked.connect(self.criar_backup)
        self.btn_restaurar.clicked.connect(self.restaurar_backup)
        self.btn_atualizar_programa.clicked.connect(self.atualizar_programa)

    def configurar_tab_monitoramento(self):
        layout = QtWidgets.QVBoxLayout()
        self.tab_monitoramento.setLayout(layout)

        # Visualização de vídeo
        self.label_video = QtWidgets.QLabel()
        self.label_video.setAlignment(QtCore.Qt.AlignCenter)
        self.label_video.setFixedSize(800, 500)
        layout.addWidget(self.label_video)

        # Botões de controle
        h_layout = QtWidgets.QHBoxLayout()
        self.btn_iniciar = QtWidgets.QPushButton("Iniciar Monitoramento")
        h_layout.addWidget(self.btn_iniciar)
        self.btn_parar = QtWidgets.QPushButton("Parar Monitoramento")
        self.btn_parar.setEnabled(False)
        h_layout.addWidget(self.btn_parar)
        layout.addLayout(h_layout)

    def configurar_tab_veiculos(self):
        layout = QtWidgets.QVBoxLayout()
        self.tab_veiculos.setLayout(layout)

        # Tabela de veículos
        self.table_veiculos = QtWidgets.QTableWidget()
        self.table_veiculos.setColumnCount(5)
        self.table_veiculos.setHorizontalHeaderLabels(["Placa", "Proprietário", "Modelo", "Cor", "Validade"])
        self.table_veiculos.setSelectionBehavior(QtWidgets.QTableWidget.SelectRows)
        self.table_veiculos.setEditTriggers(QtWidgets.QTableWidget.NoEditTriggers)
        layout.addWidget(self.table_veiculos)

        # Botões de controle
        h_layout = QtWidgets.QHBoxLayout()
        self.btn_adicionar = QtWidgets.QPushButton("Adicionar Veículo")
        h_layout.addWidget(self.btn_adicionar)
        self.btn_editar = QtWidgets.QPushButton("Editar Veículo")
        h_layout.addWidget(self.btn_editar)
        self.btn_remover = QtWidgets.QPushButton("Remover Veículo")
        h_layout.addWidget(self.btn_remover)
        layout.addLayout(h_layout)
        self.carregar_veiculos()

    def configurar_tab_acessos(self):
        layout = QtWidgets.QVBoxLayout()
        self.tab_acessos.setLayout(layout)

        # Tabela de acessos
        self.table_acessos = QtWidgets.QTableWidget()
        self.table_acessos.setColumnCount(4)
        self.table_acessos.setHorizontalHeaderLabels(["Placa", "Data", "Hora", "Autorizado"])
        self.table_acessos.setSelectionBehavior(QtWidgets.QTableWidget.SelectRows)
        self.table_acessos.setEditTriggers(QtWidgets.QTableWidget.NoEditTriggers)
        layout.addWidget(self.table_acessos)

        # Botão de atualização
        self.btn_atualizar_acessos = QtWidgets.QPushButton("Atualizar")
        layout.addWidget(self.btn_atualizar_acessos)
        self.carregar_acessos()

    def configurar_tab_configuracoes(self):
        layout = QtWidgets.QVBoxLayout()
        self.tab_configuracoes.setLayout(layout)

        # Botão de backup
        self.btn_backup = QtWidgets.QPushButton("Fazer Backup")
        layout.addWidget(self.btn_backup)

        # Botão de restauração
        self.btn_restaurar = QtWidgets.QPushButton("Restaurar Backup")
        layout.addWidget(self.btn_restaurar)

        # Botão de atualização do programa
        self.btn_atualizar_programa = QtWidgets.QPushButton("Atualizar Programa")
        layout.addWidget(self.btn_atualizar_programa)

    def iniciar_monitoramento(self):
        self.cap = cv2.VideoCapture(0)
        if not self.cap.isOpened():
            self.statusbar.showMessage("Erro ao abrir a câmera.")
            logging.error("Falha ao abrir a câmera.")
            return
        self.is_running = True
        self.video_thread = threading.Thread(target=self.processar_video)
        self.video_thread.start()
        self.btn_iniciar.setEnabled(False)
        self.btn_parar.setEnabled(True)
        self.statusbar.showMessage("Monitoramento iniciado.")
        logging.info("Monitoramento iniciado.")

    def parar_monitoramento(self):
        self.is_running = False
        if self.video_thread is not None:
            self.video_thread.join()
        if self.cap:
            self.cap.release()
        self.label_video.clear()
        self.btn_iniciar.setEnabled(True)
        self.btn_parar.setEnabled(False)
        self.statusbar.showMessage("Monitoramento parado.")
        logging.info("Monitoramento parado.")

    def processar_video(self):
        while self.is_running:
            ret, frame = self.cap.read()
            if ret:
                frame_resized = cv2.resize(frame, (640, 480))
                rgb_image = cv2.cvtColor(frame_resized, cv2.COLOR_BGR2RGB)

                # Tentando reconhecer a placa continuamente
                placa = reconhecer_placa(frame_resized)
                if placa:
                    acesso = verificar_acesso(placa)
                    registrar_acesso(placa, acesso)
                    if acesso:
                        self.statusbar.showMessage(f"Acesso liberado para {placa}.")
                        abrir_portao()
                        logging.info(f"Acesso liberado para a placa: {placa}")
                    else:
                        self.statusbar.showMessage(f"Acesso negado para {placa}.")
                        logging.warning(f"Acesso negado para a placa: {placa}")
                else:
                    self.statusbar.showMessage("Tentando reconhecer a placa...")
                    logging.info("Tentando reconhecer a placa.")

                # Exibir feed de vídeo
                qt_image = QtGui.QImage(rgb_image.data, rgb_image.shape[1], rgb_image.shape[0],
                                        QtGui.QImage.Format_RGB888)
                pixmap = QtGui.QPixmap.fromImage(qt_image)
                self.label_video.setPixmap(pixmap)
            else:
                self.statusbar.showMessage("Falha ao capturar o vídeo.")
                logging.error("Falha ao capturar o vídeo.")

    def carregar_veiculos(self):
        veiculos = session.query(Veiculo).all()
        self.table_veiculos.setRowCount(len(veiculos))
        for row, veiculo in enumerate(veiculos):
            self.table_veiculos.setItem(row, 0, QtWidgets.QTableWidgetItem(veiculo.placa))
            self.table_veiculos.setItem(row, 1, QtWidgets.QTableWidgetItem(veiculo.proprietario))
            self.table_veiculos.setItem(row, 2, QtWidgets.QTableWidgetItem(veiculo.modelo))
            self.table_veiculos.setItem(row, 3, QtWidgets.QTableWidgetItem(veiculo.cor))
            self.table_veiculos.setItem(row, 4, QtWidgets.QTableWidgetItem(veiculo.validade.strftime('%d/%m/%Y')))

    def adicionar_veiculo(self):
        self.dialog_veiculo = DialogVeiculo(self)
        self.dialog_veiculo.show()

    def editar_veiculo(self):
        row = self.table_veiculos.currentRow()
        if row >= 0:
            placa = self.table_veiculos.item(row, 0).text()
            veiculo = session.query(Veiculo).filter_by(placa=placa).first()
            if veiculo:
                self.dialog_veiculo = DialogVeiculo(self, veiculo)
                self.dialog_veiculo.show()
        else:
            QtWidgets.QMessageBox.warning(self, "Atenção", "Selecione um veículo para editar.")

    def remover_veiculo(self):
        row = self.table_veiculos.currentRow()
        if row >= 0:
            placa = self.table_veiculos.item(row, 0).text()
            veiculo = session.query(Veiculo).filter_by(placa=placa).first()
            if veiculo:
                confirm = QtWidgets.QMessageBox.question(
                    self, 'Confirmação',
                    f'Tem certeza que deseja remover o veículo {placa}?',
                    QtWidgets.QMessageBox.Yes | QtWidgets.QMessageBox.No,
                    QtWidgets.QMessageBox.No
                )
                if confirm == QtWidgets.QMessageBox.Yes:
                    session.delete(veiculo)
                    session.commit()
                    self.carregar_veiculos()
                    logging.info(f"Veículo removido: {placa}")
        else:
            QtWidgets.QMessageBox.warning(self, "Atenção", "Selecione um veículo para remover.")

    def carregar_acessos(self):
        acessos = session.query(Acesso).order_by(Acesso.id.desc()).limit(100).all()
        self.table_acessos.setRowCount(len(acessos))
        for row, acesso in enumerate(acessos):
            self.table_acessos.setItem(row, 0, QtWidgets.QTableWidgetItem(acesso.placa))
            self.table_acessos.setItem(row, 1, QtWidgets.QTableWidgetItem(acesso.data.strftime('%d/%m/%Y')))
            self.table_acessos.setItem(row, 2, QtWidgets.QTableWidgetItem(acesso.hora.strftime('%H:%M:%S')))
            autorizado = "Sim" if acesso.autorizado else "Não"
            self.table_acessos.setItem(row, 3, QtWidgets.QTableWidgetItem(autorizado))

    def criar_backup(self):
        backup_file = fazer_backup()
        if backup_file:
            QtWidgets.QMessageBox.information(self, "Backup", f"Backup criado com sucesso: {backup_file}")
        else:
            QtWidgets.QMessageBox.warning(self, "Erro", "Não foi possível criar o backup.")

    def restaurar_backup(self):
        try:
            options = QtWidgets.QFileDialog.Options()
            options |= QtWidgets.QFileDialog.ReadOnly
            backup_file, _ = QtWidgets.QFileDialog.getOpenFileName(
                self, "Selecionar Backup", "", "Arquivos ZIP (*.zip)", options=options)
            if backup_file:
                with zipfile.ZipFile(backup_file, 'r') as backup_zip:
                    backup_zip.extractall()
                QtWidgets.QMessageBox.information(self, "Restauração", f"Backup restaurado com sucesso: {backup_file}")
                self.carregar_veiculos()
                self.carregar_acessos()
                logging.info(f"Backup restaurado de: {backup_file}")
        except Exception as e:
            QtWidgets.QMessageBox.warning(self, "Erro", f"Erro ao restaurar backup: {e}")
            logging.error(f"Erro ao restaurar backup: {e}")

    def atualizar_programa(self):
        atualizar_programa()

# Diálogo para adicionar ou editar veículos
class DialogVeiculo(QtWidgets.QDialog):
    def __init__(self, parent=None, veiculo=None):
        super(DialogVeiculo, self).__init__(parent)
        self.veiculo = veiculo
        self.configurar_ui()

    def configurar_ui(self):
        self.setWindowTitle("Adicionar Veículo" if self.veiculo is None else "Editar Veículo")
        self.setFixedSize(400, 300)

        # Layouts
        layout = QtWidgets.QVBoxLayout()
        form_layout = QtWidgets.QFormLayout()
        btn_layout = QtWidgets.QHBoxLayout()

        # Campos
        self.input_placa = QtWidgets.QLineEdit()
        self.input_placa.setMaxLength(7)
        form_layout.addRow("Placa:", self.input_placa)

        self.input_proprietario = QtWidgets.QLineEdit()
        form_layout.addRow("Proprietário:", self.input_proprietario)

        self.input_modelo = QtWidgets.QLineEdit()
        form_layout.addRow("Modelo:", self.input_modelo)

        self.input_cor = QtWidgets.QLineEdit()
        form_layout.addRow("Cor:", self.input_cor)

        self.input_validade = QtWidgets.QDateEdit()
        self.input_validade.setCalendarPopup(True)
        self.input_validade.setDate(QtCore.QDate.currentDate())
        form_layout.addRow("Validade:", self.input_validade)

        # Botões
        self.btn_salvar = QtWidgets.QPushButton("Salvar")
        self.btn_cancelar = QtWidgets.QPushButton("Cancelar")
        btn_layout.addWidget(self.btn_salvar)
        btn_layout.addWidget(self.btn_cancelar)

        # Definir layouts
        layout.addLayout(form_layout)
        layout.addLayout(btn_layout)
        self.setLayout(layout)

        # Conectar sinais
        self.btn_salvar.clicked.connect(self.salvar_veiculo)
        self.btn_cancelar.clicked.connect(self.close)

        # Se estiver editando, preencher os campos
        if self.veiculo:
            self.input_placa.setText(self.veiculo.placa)
            self.input_placa.setEnabled(False)
            self.input_proprietario.setText(self.veiculo.proprietario)
            self.input_modelo.setText(self.veiculo.modelo)
            self.input_cor.setText(self.veiculo.cor)
            self.input_validade.setDate(self.veiculo.validade)

    def salvar_veiculo(self):
        placa = self.input_placa.text().strip().upper()
        proprietario = self.input_proprietario.text().strip()
        modelo = self.input_modelo.text().strip()
        cor = self.input_cor.text().strip()
        validade = self.input_validade.date().toPyDate()

        if placa and proprietario and validade:
            try:
                if self.veiculo:
                    # Atualizar veículo existente
                    self.veiculo.proprietario = proprietario
                    self.veiculo.modelo = modelo
                    self.veiculo.cor = cor
                    self.veiculo.validade = validade
                    session.commit()
                    logging.info(f"Veículo atualizado: {placa}")
                else:
                    # Verificar se a placa já existe
                    existente = session.query(Veiculo).filter_by(placa=placa).first()
                    if existente:
                        QtWidgets.QMessageBox.warning(self, "Erro", f"Já existe um veículo com a placa {placa}.")
                        return
                    # Criar novo veículo
                    novo_veiculo = Veiculo(
                        placa=placa,
                        proprietario=proprietario,
                        modelo=modelo,
                        cor=cor,
                        validade=validade
                    )
                    session.add(novo_veiculo)
                    session.commit()
                    logging.info(f"Veículo adicionado: {placa}")
                self.parent().carregar_veiculos()
                self.close()
            except Exception as e:
                QtWidgets.QMessageBox.warning(self, "Erro", f"Falha ao salvar veículo: {e}")
                logging.error(f"Erro ao salvar veículo: {e}")
        else:
            QtWidgets.QMessageBox.warning(self, "Atenção", "Preencha todos os campos obrigatórios.")

# Funções de reconhecimento de placas
def detectar_placa(frame):
    gray = cv2.cvtColor(frame, cv2.COLOR_BGR2GRAY)
    gray = cv2.bilateralFilter(gray, 11, 17, 17)  # Redução de ruído
    edged = cv2.Canny(gray, 30, 200)  # Detecção de bordas

    contornos, _ = cv2.findContours(edged.copy(), cv2.RETR_TREE, cv2.CHAIN_APPROX_SIMPLE)
    contornos = sorted(contornos, key=cv2.contourArea, reverse=True)[:10]
    for c in contornos:
        peri = cv2.arcLength(c, True)
        approx = cv2.approxPolyDP(c, 0.018 * peri, True)
        if len(approx) == 4:
            x, y, w, h = cv2.boundingRect(c)
            placa = frame[y:y + h, x:x + w]
            return placa
    return None

def reconhecer_placa(frame):
    placa_img = detectar_placa(frame)
    if placa_img is not None:
        gray_placa = cv2.cvtColor(placa_img, cv2.COLOR_BGR2GRAY)
        _, thresh = cv2.threshold(gray_placa, 150, 255, cv2.THRESH_BINARY)
        # Usar Tesseract OCR para ler a placa
        config = r'--oem 3 --psm 8 -c tessedit_char_whitelist=ABCDEFGHIJKLMNOPQRSTUVWXYZ0123456789'
        texto = pytesseract.image_to_string(thresh, config=config)
        placa = ''.join(filter(str.isalnum, texto)).upper()
        if len(placa) >= 6:  # Validação básica
            return placa
    return None

# Função para verificar o acesso
def verificar_acesso(placa):
    veiculo = session.query(Veiculo).filter_by(placa=placa).first()
    if veiculo and veiculo.validade >= datetime.date.today():
        return True
    else:
        return False

# Função para registrar tentativas de acesso
def registrar_acesso(placa, autorizado):
    acesso = Acesso(placa=placa, autorizado=autorizado)
    session.add(acesso)
    session.commit()
    if autorizado:
        logging.info(f"Acesso autorizado: {placa}")
    else:
        logging.warning(f"Acesso negado: {placa}")

# Execução principal
if __name__ == '__main__':
    app = QtWidgets.QApplication(sys.argv)
    window = SistemaPortao()
    window.show()
    sys.exit(app.exec_())
